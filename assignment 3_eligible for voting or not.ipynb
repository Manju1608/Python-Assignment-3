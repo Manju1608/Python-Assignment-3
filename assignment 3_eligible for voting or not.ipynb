{
  "nbformat": 4,
  "nbformat_minor": 0,
  "metadata": {
    "colab": {
      "name": "Welcome To Colaboratory",
      "provenance": [],
      "collapsed_sections": [],
      "include_colab_link": true
    },
    "kernelspec": {
      "display_name": "Python 3",
      "name": "python3"
    }
  },
  "cells": [
    {
      "cell_type": "markdown",
      "metadata": {
        "id": "view-in-github",
        "colab_type": "text"
      },
      "source": [
        "<a href=\"https://colab.research.google.com/github/Manju1608/Python-Assignment-3/blob/master/assignment%203_eligible%20for%20voting%20or%20not.ipynb\" target=\"_parent\"><img src=\"https://colab.research.google.com/assets/colab-badge.svg\" alt=\"Open In Colab\"/></a>"
      ]
    },
    {
      "cell_type": "code",
      "metadata": {
        "id": "oAhN78tKoABQ",
        "colab_type": "code",
        "colab": {}
      },
      "source": [
        " age=int(input(\"enter a no\"))\n",
        "if(age>=18):\n",
        "    print(\"eligible for voting\")\n",
        "else:\n",
        "    print(\"noteligible for voting\")"
      ],
      "execution_count": null,
      "outputs": []
    }
  ]
}